{
 "cells": [
  {
   "cell_type": "markdown",
   "source": [
    "## This jupyter notebook is for practice coding *numpy* library.\n",
    "- Start with basic syntax\n",
    "- Introduce interesting coding\n",
    "- Build a mini-project"
   ],
   "metadata": {}
  },
  {
   "cell_type": "code",
   "execution_count": 4,
   "source": [
    "import numpy as np"
   ],
   "outputs": [],
   "metadata": {}
  },
  {
   "cell_type": "code",
   "execution_count": 8,
   "source": [
    "# linspace\n",
    "l = np.linspace(2.5, 4.2, 8)\n",
    "print(l)"
   ],
   "outputs": [
    {
     "output_type": "stream",
     "name": "stdout",
     "text": [
      "[2.5        2.74285714 2.98571429 3.22857143 3.47142857 3.71428571\n",
      " 3.95714286 4.2       ]\n"
     ]
    }
   ],
   "metadata": {}
  },
  {
   "cell_type": "code",
   "execution_count": 6,
   "source": [
    "# arange\n",
    "a = np.arange(2.5, 3.2, 0.2)\n",
    "print(a)"
   ],
   "outputs": [
    {
     "output_type": "stream",
     "name": "stdout",
     "text": [
      "[2.5 2.7 2.9 3.1]\n"
     ]
    }
   ],
   "metadata": {}
  },
  {
   "cell_type": "code",
   "execution_count": 10,
   "source": [
    "# empty\n",
    "e = np.empty((3, 2))\n",
    "print(e) "
   ],
   "outputs": [
    {
     "output_type": "stream",
     "name": "stdout",
     "text": [
      "[[-0.00000000e+000 -2.68679316e+154]\n",
      " [ 1.48219694e-323  0.00000000e+000]\n",
      " [ 0.00000000e+000  4.17201348e-309]]\n"
     ]
    }
   ],
   "metadata": {}
  },
  {
   "cell_type": "code",
   "execution_count": 11,
   "source": [
    "# reshape\n",
    "d = np.linspace(1, 10, 10, dtype=int)\n",
    "a = np.reshape(d, (2, 5))\n",
    "print(a)"
   ],
   "outputs": [
    {
     "output_type": "stream",
     "name": "stdout",
     "text": [
      "[[ 1  2  3  4  5]\n",
      " [ 6  7  8  9 10]]\n"
     ]
    }
   ],
   "metadata": {}
  },
  {
   "cell_type": "code",
   "execution_count": 12,
   "source": [
    "d = np.arange(0, 0.9, 0.1).reshape((3, 3))\n",
    "print(d)"
   ],
   "outputs": [
    {
     "output_type": "stream",
     "name": "stdout",
     "text": [
      "[[0.  0.1 0.2]\n",
      " [0.3 0.4 0.5]\n",
      " [0.6 0.7 0.8]]\n"
     ]
    }
   ],
   "metadata": {}
  },
  {
   "cell_type": "code",
   "execution_count": 13,
   "source": [
    "# vectors\n",
    "x = np.linspace(1, 3, 3, dtype=int)\n",
    "y = np.linspace(5, 8, 3, dtype=int)\n",
    "\n",
    "# concatenate\n",
    "print(np.concatenate((x, y)))"
   ],
   "outputs": [
    {
     "output_type": "stream",
     "name": "stdout",
     "text": [
      "[1 2 3 5 6 8]\n"
     ]
    }
   ],
   "metadata": {}
  },
  {
   "cell_type": "code",
   "execution_count": 14,
   "source": [
    "# repeat and title\n",
    "print(np.repeat(x, 3))\n",
    "print(np.tile(x, 3))"
   ],
   "outputs": [
    {
     "output_type": "stream",
     "name": "stdout",
     "text": [
      "[1 1 1 2 2 2 3 3 3]\n",
      "[1 2 3 1 2 3 1 2 3]\n"
     ]
    }
   ],
   "metadata": {}
  },
  {
   "cell_type": "code",
   "execution_count": 15,
   "source": [
    "# dot products\n",
    "a = np.linspace(1, 4, 4, dtype=int)                    # 1x4\n",
    "b = np.linspace(1, 12, 12, dtype=int).reshape((4, 3))  # 4x3\n",
    "c = np.linspace(1, 12, 12, dtype=int).reshape((3, 4))  # 3x4\n",
    "print(a @ b) # same as np.dot(a,b)\n",
    "print(b @ c)"
   ],
   "outputs": [
    {
     "output_type": "stream",
     "name": "stdout",
     "text": [
      "[70 80 90]\n",
      "[[ 38  44  50  56]\n",
      " [ 83  98 113 128]\n",
      " [128 152 176 200]\n",
      " [173 206 239 272]]\n"
     ]
    }
   ],
   "metadata": {}
  },
  {
   "cell_type": "code",
   "execution_count": 16,
   "source": [
    "# list to array\n",
    "l = [i + i * 4 for i in range(10)]\n",
    "ar = np.array(l)\n",
    "print(ar)"
   ],
   "outputs": [
    {
     "output_type": "stream",
     "name": "stdout",
     "text": [
      "[ 0  5 10 15 20 25 30 35 40 45]\n"
     ]
    }
   ],
   "metadata": {}
  },
  {
   "cell_type": "code",
   "execution_count": 20,
   "source": [
    "# random module\n",
    "np.random.seed(42)\n",
    "R = np.random.randn(3)\n",
    "R1 = np.random.randint(0, 10)\n",
    "print(R, R1)"
   ],
   "outputs": [
    {
     "output_type": "stream",
     "name": "stdout",
     "text": [
      "[ 0.49671415 -0.1382643   0.64768854] 6\n"
     ]
    }
   ],
   "metadata": {}
  },
  {
   "cell_type": "code",
   "execution_count": null,
   "source": [],
   "outputs": [],
   "metadata": {}
  },
  {
   "cell_type": "code",
   "execution_count": null,
   "source": [],
   "outputs": [],
   "metadata": {}
  }
 ],
 "metadata": {
  "kernelspec": {
   "name": "python3",
   "display_name": "Python 3.7.3 64-bit ('base': conda)"
  },
  "language_info": {
   "codemirror_mode": {
    "name": "ipython",
    "version": 3
   },
   "file_extension": ".py",
   "mimetype": "text/x-python",
   "name": "python",
   "nbconvert_exporter": "python",
   "pygments_lexer": "ipython3",
   "version": "3.7.3"
  },
  "interpreter": {
   "hash": "038949c7f714f237d8ac1175e81231ae3e64efbc7dc8a77ac513cf71a3e91036"
  }
 },
 "nbformat": 4,
 "nbformat_minor": 2
}