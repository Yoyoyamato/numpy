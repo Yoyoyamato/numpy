{
 "cells": [
  {
   "cell_type": "markdown",
   "source": [
    "## This jupyter notebook is for practice coding *numpy* library.\n",
    "- Start with basic syntax\n",
    "- Introduce interesting coding\n",
    "- Build a mini-project"
   ],
   "metadata": {}
  },
  {
   "cell_type": "code",
   "execution_count": 4,
   "source": [
    "import numpy as np"
   ],
   "outputs": [],
   "metadata": {}
  },
  {
   "cell_type": "code",
   "execution_count": 8,
   "source": [
    "# linspace\n",
    "l = np.linspace(2.5, 4.2, 8)\n",
    "print(l)"
   ],
   "outputs": [
    {
     "output_type": "stream",
     "name": "stdout",
     "text": [
      "[2.5        2.74285714 2.98571429 3.22857143 3.47142857 3.71428571\n",
      " 3.95714286 4.2       ]\n"
     ]
    }
   ],
   "metadata": {}
  },
  {
   "cell_type": "code",
   "execution_count": 6,
   "source": [
    "# arange\n",
    "a = np.arange(2.5, 3.2, 0.2)\n",
    "print(a)"
   ],
   "outputs": [
    {
     "output_type": "stream",
     "name": "stdout",
     "text": [
      "[2.5 2.7 2.9 3.1]\n"
     ]
    }
   ],
   "metadata": {}
  },
  {
   "cell_type": "code",
   "execution_count": 10,
   "source": [
    "# empty\n",
    "e = np.empty((3, 2))\n",
    "print(e) "
   ],
   "outputs": [
    {
     "output_type": "stream",
     "name": "stdout",
     "text": [
      "[[-0.00000000e+000 -2.68679316e+154]\n",
      " [ 1.48219694e-323  0.00000000e+000]\n",
      " [ 0.00000000e+000  4.17201348e-309]]\n"
     ]
    }
   ],
   "metadata": {}
  },
  {
   "cell_type": "code",
   "execution_count": 11,
   "source": [
    "# reshape\n",
    "d = np.linspace(1, 10, 10, dtype=int)\n",
    "a = np.reshape(d, (2, 5))\n",
    "print(a)"
   ],
   "outputs": [
    {
     "output_type": "stream",
     "name": "stdout",
     "text": [
      "[[ 1  2  3  4  5]\n",
      " [ 6  7  8  9 10]]\n"
     ]
    }
   ],
   "metadata": {}
  },
  {
   "cell_type": "code",
   "execution_count": 12,
   "source": [
    "d = np.arange(0, 0.9, 0.1).reshape((3, 3))\n",
    "print(d)"
   ],
   "outputs": [
    {
     "output_type": "stream",
     "name": "stdout",
     "text": [
      "[[0.  0.1 0.2]\n",
      " [0.3 0.4 0.5]\n",
      " [0.6 0.7 0.8]]\n"
     ]
    }
   ],
   "metadata": {}
  },
  {
   "cell_type": "code",
   "execution_count": 13,
   "source": [
    "# vectors\n",
    "x = np.linspace(1, 3, 3, dtype=int)\n",
    "y = np.linspace(5, 8, 3, dtype=int)\n",
    "\n",
    "# concatenate\n",
    "print(np.concatenate((x, y)))"
   ],
   "outputs": [
    {
     "output_type": "stream",
     "name": "stdout",
     "text": [
      "[1 2 3 5 6 8]\n"
     ]
    }
   ],
   "metadata": {}
  },
  {
   "cell_type": "code",
   "execution_count": 14,
   "source": [
    "# repeat and title\n",
    "print(np.repeat(x, 3))\n",
    "print(np.tile(x, 3))"
   ],
   "outputs": [
    {
     "output_type": "stream",
     "name": "stdout",
     "text": [
      "[1 1 1 2 2 2 3 3 3]\n",
      "[1 2 3 1 2 3 1 2 3]\n"
     ]
    }
   ],
   "metadata": {}
  },
  {
   "cell_type": "code",
   "execution_count": 15,
   "source": [
    "# dot products\n",
    "a = np.linspace(1, 4, 4, dtype=int)                    # 1x4\n",
    "b = np.linspace(1, 12, 12, dtype=int).reshape((4, 3))  # 4x3\n",
    "c = np.linspace(1, 12, 12, dtype=int).reshape((3, 4))  # 3x4\n",
    "print(a @ b) # same as np.dot(a,b)\n",
    "print(b @ c)"
   ],
   "outputs": [
    {
     "output_type": "stream",
     "name": "stdout",
     "text": [
      "[70 80 90]\n",
      "[[ 38  44  50  56]\n",
      " [ 83  98 113 128]\n",
      " [128 152 176 200]\n",
      " [173 206 239 272]]\n"
     ]
    }
   ],
   "metadata": {}
  },
  {
   "cell_type": "code",
   "execution_count": 16,
   "source": [
    "# list to array\n",
    "l = [i + i * 4 for i in range(10)]\n",
    "ar = np.array(l)\n",
    "print(ar)"
   ],
   "outputs": [
    {
     "output_type": "stream",
     "name": "stdout",
     "text": [
      "[ 0  5 10 15 20 25 30 35 40 45]\n"
     ]
    }
   ],
   "metadata": {}
  },
  {
   "cell_type": "code",
   "execution_count": 20,
   "source": [
    "# random module\n",
    "np.random.seed(42)\n",
    "R = np.random.randn(3)\n",
    "R1 = np.random.randint(0, 10)\n",
    "print(R, R1)"
   ],
   "outputs": [
    {
     "output_type": "stream",
     "name": "stdout",
     "text": [
      "[ 0.49671415 -0.1382643   0.64768854] 6\n"
     ]
    }
   ],
   "metadata": {}
  },
  {
   "cell_type": "markdown",
   "source": [
    "# Mini-project"
   ],
   "metadata": {}
  },
  {
   "cell_type": "markdown",
   "source": [
    "## Demand Estimation with $n$ Substitutable Products\n",
    "\n",
    "\n",
    "Write a function called `demand` with two input arguments:\n",
    "\n",
    "- `prices`: a list of $n$ prices, one for each product. \n",
    "- `values`: a list in which each element represents a customer's valuations for the $n$ products. The valuations is a list of length $n$, which corresponds to the customer's willingness to pay for each of the $n$ products.\n",
    "\n",
    "The function should return a list of length $n$ representing the number of each product sold. You should assume that each customer:\n",
    "\n",
    "- Does not purchase anything if his/her valuation for each product is strictly less than its price.\n",
    "- Otherwise, purchase the product in which the difference between his/her valuation and the price is the largest. When there is a tie, the customer will purchase the product with the smaller index. \n",
    "\n",
    "For example, if `prices=[10,8,12]`, then\n",
    "\n",
    "- A customer with valuations `[9,7,11]` purchases nothing.\n",
    "- A customer with valuations `[10,8,12]` purchases product 1.\n",
    "- A customer with valuations `[9,8,12]` purchases product 2.\n",
    "- A customer with valuations `[9,8,13]` purchases product 3.\n",
    "\n",
    "**Sample run 1:**\n",
    "\n",
    "```python\n",
    "prices=[10,8,12]\n",
    "values=[[9,7,11],[10,8,12],[9,8,12],[9,8,13]]\n",
    "ans=demand(prices,values)\n",
    "for i in range(len(prices)):\n",
    "    print(f'Demand for product {i+1}:',ans[i])\n",
    "```\n",
    "\n",
    "**Correct output:**\n",
    "\n",
    "```\n",
    "Demand for product 1: 1\n",
    "Demand for product 2: 1\n",
    "Demand for product 3: 1\n",
    "```\n",
    "\n",
    "**Sample run 2:**\n",
    "\n",
    "```python\n",
    "prices=[20,15,30]\n",
    "values=[[30,30,20],[40,10,15],[18,13,29],[40,30,50],[10,30,50],[10,10,10],[20,15,30]]\n",
    "ans=demand(prices,values)\n",
    "for i in range(len(prices)):\n",
    "    print(f'Demand for product {i+1}:',ans[i])\n",
    "   ```\n",
    "   \n",
    "**Correct output:**\n",
    "\n",
    "```\n",
    "Demand for product 1: 3\n",
    "Demand for product 2: 1\n",
    "Demand for product 3: 1\n",
    "```"
   ],
   "metadata": {}
  },
  {
   "cell_type": "code",
   "execution_count": 28,
   "source": [
    "# using the where and unique method\n",
    "def demand(prices,values):\n",
    "    p = np.array(prices)\n",
    "    v = np.array(values)\n",
    "    test = v - p \n",
    "    count = []\n",
    "    for i in test:\n",
    "        mx = i.max()\n",
    "        # getting the smaller index\n",
    "        a = np.where(i == mx)[0][0]\n",
    "        if mx >= 0:\n",
    "            count.append(a)\n",
    "    _, counts = np.unique(np.array(count), return_counts=True)\n",
    "    return counts"
   ],
   "outputs": [],
   "metadata": {}
  },
  {
   "cell_type": "code",
   "execution_count": 25,
   "source": [
    "# Sample run 1\n",
    "prices=[10,8,12]\n",
    "values=[[9,7,11],[10,8,12],[9,8,12],[9,8,13]]\n",
    "ans=demand(prices,values)\n",
    "for i in range(len(prices)):\n",
    "    print('Demand for product',i,':',ans[i])"
   ],
   "outputs": [
    {
     "output_type": "stream",
     "name": "stdout",
     "text": [
      "Demand for product 0 : 1\n",
      "Demand for product 1 : 1\n",
      "Demand for product 2 : 1\n"
     ]
    }
   ],
   "metadata": {}
  },
  {
   "cell_type": "code",
   "execution_count": 26,
   "source": [
    "# Sample run 2\n",
    "prices=[20,15,30]\n",
    "values=[[30,30,20],[40,10,15],[18,13,29],[40,30,50],[10,30,50],[10,10,10],[20,15,30]]\n",
    "ans=demand(prices,values)\n",
    "for i in range(len(prices)):\n",
    "    print('Demand for product',i,':',ans[i])"
   ],
   "outputs": [
    {
     "output_type": "stream",
     "name": "stdout",
     "text": [
      "Demand for product 0 : 3\n",
      "Demand for product 1 : 1\n",
      "Demand for product 2 : 1\n"
     ]
    }
   ],
   "metadata": {}
  },
  {
   "cell_type": "markdown",
   "source": [
    "### Spin-off"
   ],
   "metadata": {}
  },
  {
   "cell_type": "code",
   "execution_count": 29,
   "source": [
    "# all method\n",
    "p = np.array(prices)\n",
    "v = np.array(values)\n",
    "test = v - p \n",
    "for i in test:\n",
    "    mx = i.max()\n",
    "    tf = np.all(i == mx) \n",
    "    # returns a bool, True means that all the value in that vector has the max value\n",
    "    print(tf)"
   ],
   "outputs": [
    {
     "output_type": "stream",
     "name": "stdout",
     "text": [
      "False\n",
      "False\n",
      "False\n",
      "False\n",
      "False\n",
      "False\n",
      "True\n"
     ]
    }
   ],
   "metadata": {}
  },
  {
   "cell_type": "code",
   "execution_count": null,
   "source": [],
   "outputs": [],
   "metadata": {}
  }
 ],
 "metadata": {
  "kernelspec": {
   "name": "python3",
   "display_name": "Python 3.7.3 64-bit ('base': conda)"
  },
  "language_info": {
   "codemirror_mode": {
    "name": "ipython",
    "version": 3
   },
   "file_extension": ".py",
   "mimetype": "text/x-python",
   "name": "python",
   "nbconvert_exporter": "python",
   "pygments_lexer": "ipython3",
   "version": "3.7.3"
  },
  "interpreter": {
   "hash": "038949c7f714f237d8ac1175e81231ae3e64efbc7dc8a77ac513cf71a3e91036"
  }
 },
 "nbformat": 4,
 "nbformat_minor": 2
}