{
 "cells": [
  {
   "cell_type": "markdown",
   "source": [
    "## Simulating a drinking game\n",
    "### Rules\n",
    "- There are six cups in the center of the table, and each cup corresponds with the number of the dice\n",
    "- if the dice is \"4\", that person that rolled has to drink the fourth cup and will roll again\n",
    "    - if the cup is empty, they do NOT have to drink and fill that cup up and the next person goes\n",
    "- operate this for m rounds"
   ],
   "metadata": {}
  },
  {
   "cell_type": "code",
   "execution_count": 37,
   "source": [
    "import numpy as np\n",
    "import pandas as pd\n",
    "from numpy.random import default_rng"
   ],
   "outputs": [],
   "metadata": {}
  },
  {
   "cell_type": "code",
   "execution_count": 98,
   "source": [
    "n = 7\n",
    "rounds = 2\n",
    "samples = 3000\n",
    "\n",
    "rng = default_rng()\n",
    "\n",
    "aggbox = {}\n",
    "\n",
    "for sample in range(samples):\n",
    "    box = {}\n",
    "    drinks_start = ['1', '1', '1', '1', '1', '1'] # 1 means the cup is full, 0 means it is empty\n",
    "    for round in range(rounds):\n",
    "        for person in range(1,n+1):\n",
    "            if round == 0:\n",
    "                box[person] = 0\n",
    "            dice = (rng.integers(1,7)) - 1\n",
    "            if drinks_start[dice] == '1': # first roll\n",
    "                box[person] += 1\n",
    "                drinks_start[dice] = '0'\n",
    "                dice = (rng.integers(1,7)) - 1\n",
    "                if drinks_start[dice] == '1': # second roll\n",
    "                    box[person] += 1\n",
    "                    drinks_start[dice] = '0'\n",
    "                    dice = (rng.integers(1,7)) - 1\n",
    "                    if drinks_start[dice] == '1': # third roll\n",
    "                        box[person] += 1\n",
    "                        drinks_start[dice] = '0'\n",
    "                        dice = (rng.integers(1,7)) - 1\n",
    "                        if drinks_start[dice] == '1': # fourth roll\n",
    "                            box[person] += 1\n",
    "                            drinks_start[dice] = '0'\n",
    "                            dice = (rng.integers(1,7)) - 1\n",
    "                            if drinks_start[dice] == '1': # fifth roll\n",
    "                                box[person] += 1\n",
    "                                drinks_start[dice] = '0'\n",
    "                                dice = (rng.integers(1,7)) - 1\n",
    "                                if drinks_start[dice] == '1': # sixth roll\n",
    "                                    box[person] += 1\n",
    "                                    drinks_start[dice] = '0'\n",
    "                                else:\n",
    "                                    drinks_start[dice] = '1'\n",
    "                            else:\n",
    "                                drinks_start[dice] = '1'\n",
    "                        else:\n",
    "                            drinks_start[dice] = '1'\n",
    "                    else:\n",
    "                        drinks_start[dice] = '1'\n",
    "                else:\n",
    "                    drinks_start[dice] = '1'\n",
    "            else:\n",
    "                drinks_start[dice] = '1'\n",
    "    for person in range(1,n+1):\n",
    "        if sample == 0:\n",
    "            aggbox[person] = 0\n",
    "            aggbox[person] += box[person]\n",
    "        else:\n",
    "            aggbox[person] += box[person]\n",
    "\n",
    "df = pd.DataFrame(aggbox.values(), index=aggbox.keys())\n",
    "df['Drinks_per_round'] = df[0].map(lambda x: x/(rounds*samples))\n",
    "df"
   ],
   "outputs": [
    {
     "output_type": "execute_result",
     "data": {
      "text/html": [
       "<div>\n",
       "<style scoped>\n",
       "    .dataframe tbody tr th:only-of-type {\n",
       "        vertical-align: middle;\n",
       "    }\n",
       "\n",
       "    .dataframe tbody tr th {\n",
       "        vertical-align: top;\n",
       "    }\n",
       "\n",
       "    .dataframe thead th {\n",
       "        text-align: right;\n",
       "    }\n",
       "</style>\n",
       "<table border=\"1\" class=\"dataframe\">\n",
       "  <thead>\n",
       "    <tr style=\"text-align: right;\">\n",
       "      <th></th>\n",
       "      <th>0</th>\n",
       "      <th>Drinks_per_round</th>\n",
       "    </tr>\n",
       "  </thead>\n",
       "  <tbody>\n",
       "    <tr>\n",
       "      <th>1</th>\n",
       "      <td>11247</td>\n",
       "      <td>1.874500</td>\n",
       "    </tr>\n",
       "    <tr>\n",
       "      <th>2</th>\n",
       "      <td>7240</td>\n",
       "      <td>1.206667</td>\n",
       "    </tr>\n",
       "    <tr>\n",
       "      <th>3</th>\n",
       "      <td>6473</td>\n",
       "      <td>1.078833</td>\n",
       "    </tr>\n",
       "    <tr>\n",
       "      <th>4</th>\n",
       "      <td>6295</td>\n",
       "      <td>1.049167</td>\n",
       "    </tr>\n",
       "    <tr>\n",
       "      <th>5</th>\n",
       "      <td>6051</td>\n",
       "      <td>1.008500</td>\n",
       "    </tr>\n",
       "    <tr>\n",
       "      <th>6</th>\n",
       "      <td>6077</td>\n",
       "      <td>1.012833</td>\n",
       "    </tr>\n",
       "    <tr>\n",
       "      <th>7</th>\n",
       "      <td>5963</td>\n",
       "      <td>0.993833</td>\n",
       "    </tr>\n",
       "  </tbody>\n",
       "</table>\n",
       "</div>"
      ],
      "text/plain": [
       "       0  Drinks_per_round\n",
       "1  11247          1.874500\n",
       "2   7240          1.206667\n",
       "3   6473          1.078833\n",
       "4   6295          1.049167\n",
       "5   6051          1.008500\n",
       "6   6077          1.012833\n",
       "7   5963          0.993833"
      ]
     },
     "metadata": {},
     "execution_count": 98
    }
   ],
   "metadata": {}
  },
  {
   "cell_type": "code",
   "execution_count": 99,
   "source": [
    "df['Drinks_per_round'].plot(title = 'DICE ROLLING DRINKING GAME', \n",
    "                            xlabel = 'Rolling Order',\n",
    "                            ylabel = 'Average Drinks per Round')"
   ],
   "outputs": [
    {
     "output_type": "execute_result",
     "data": {
      "text/plain": [
       "<matplotlib.axes._subplots.AxesSubplot at 0x11c195358>"
      ]
     },
     "metadata": {},
     "execution_count": 99
    },
    {
     "output_type": "display_data",
     "data": {
      "image/png": "[encoded data removed]",
      "text/plain": [
       "<Figure size 432x288 with 1 Axes>"
      ]
     },
     "metadata": {
      "needs_background": "light"
     }
    }
   ],
   "metadata": {}
  },
  {
   "cell_type": "code",
   "execution_count": null,
   "source": [],
   "outputs": [],
   "metadata": {}
  },
  {
   "cell_type": "code",
   "execution_count": null,
   "source": [],
   "outputs": [],
   "metadata": {}
  },
  {
   "cell_type": "code",
   "execution_count": null,
   "source": [],
   "outputs": [],
   "metadata": {}
  },
  {
   "cell_type": "code",
   "execution_count": null,
   "source": [
    "## NEXT STEP\n",
    "# graph each person's distibution of what they rolled"
   ],
   "outputs": [],
   "metadata": {}
  },
  {
   "cell_type": "code",
   "execution_count": null,
   "source": [],
   "outputs": [],
   "metadata": {}
  },
  {
   "cell_type": "code",
   "execution_count": null,
   "source": [],
   "outputs": [],
   "metadata": {}
  },
  {
   "cell_type": "code",
   "execution_count": null,
   "source": [
    "# drinks_start = ['1', '1', '1', '1', '1', '1'] # 1 means the cup is full, 0 means it is empty\n",
    "n = 6\n",
    "rounds = 5\n",
    "samples = 1000\n",
    "\n",
    "box = {}\n",
    "rng = default_rng()\n",
    "\n",
    "aggbox = {}\n",
    "\n",
    "count_0 = 0\n",
    "count_1 = 0\n",
    "count_2 = 0\n",
    "count_3 = 0\n",
    "count_4 = 0\n",
    "count_5 = 0\n",
    "count_6 = 0\n",
    "\n",
    "\n",
    "for sample in range(samples):\n",
    "    drinks_start = ['1', '1', '1', '1', '1', '1'] # 1 means the cup is full, 0 means it is empty\n",
    "    for round in range(rounds):\n",
    "        for person in range(1,n+1):\n",
    "            if round == 0:\n",
    "                box[person] = 0\n",
    "            dice = (rng.integers(1,7)) - 1\n",
    "            if drinks_start[dice] == '1': # first roll\n",
    "                box[person] += 1\n",
    "                drinks_start[dice] = '0'\n",
    "                dice = (rng.integers(1,7)) - 1\n",
    "                count_1 += 1\n",
    "                if drinks_start[dice] == '1': # second roll\n",
    "                    box[person] += 1\n",
    "                    drinks_start[dice] = '0'\n",
    "                    dice = (rng.integers(1,7)) - 1\n",
    "                    count_2 += 1\n",
    "                    if drinks_start[dice] == '1': # third roll\n",
    "                        box[person] += 1\n",
    "                        drinks_start[dice] = '0'\n",
    "                        dice = (rng.integers(1,7)) - 1\n",
    "                        count_3 += 1\n",
    "                        if drinks_start[dice] == '1': # fourth roll\n",
    "                            box[person] += 1\n",
    "                            drinks_start[dice] = '0'\n",
    "                            dice = (rng.integers(1,7)) - 1\n",
    "                            count_4 += 1\n",
    "                            if drinks_start[dice] == '1': # fifth roll\n",
    "                                box[person] += 1\n",
    "                                drinks_start[dice] = '0'\n",
    "                                dice = (rng.integers(1,7)) - 1\n",
    "                                count_5 += 1\n",
    "                                if drinks_start[dice] == '1': # sixth roll\n",
    "                                    box[person] += 1\n",
    "                                    drinks_start[dice] = '0'\n",
    "                                    count_6 += 1\n",
    "                                else:\n",
    "                                    drinks_start[dice] = '1'\n",
    "                            else:\n",
    "                                drinks_start[dice] = '1'\n",
    "                        else:\n",
    "                            drinks_start[dice] = '1'\n",
    "                    else:\n",
    "                        drinks_start[dice] = '1'\n",
    "                else:\n",
    "                    drinks_start[dice] = '1'\n",
    "            else:\n",
    "                drinks_start[dice] = '1'\n",
    "                count_0 += 1\n",
    "    for person in range(1,n+1):\n",
    "        if sample == 0:\n",
    "            aggbox[person] = 0\n",
    "            aggbox[person] += box[person]\n",
    "        else:\n",
    "            aggbox[person] += box[person]\n",
    "print(aggbox)\n",
    "print(count_1, count_2, count_3, count_4, count_5, count_6, count_0)"
   ],
   "outputs": [],
   "metadata": {}
  }
 ],
 "metadata": {
  "kernelspec": {
   "name": "python3",
   "display_name": "Python 3.7.3 64-bit ('base': conda)"
  },
  "language_info": {
   "codemirror_mode": {
    "name": "ipython",
    "version": 3
   },
   "file_extension": ".py",
   "mimetype": "text/x-python",
   "name": "python",
   "nbconvert_exporter": "python",
   "pygments_lexer": "ipython3",
   "version": "3.7.3"
  },
  "interpreter": {
   "hash": "038949c7f714f237d8ac1175e81231ae3e64efbc7dc8a77ac513cf71a3e91036"
  }
 },
 "nbformat": 4,
 "nbformat_minor": 2
}